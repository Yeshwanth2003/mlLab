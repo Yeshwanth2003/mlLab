{
  "cells": [
    {
      "cell_type": "markdown",
      "metadata": {
        "id": "view-in-github",
        "colab_type": "text"
      },
      "source": [
        "<a href=\"https://colab.research.google.com/github/Yeshwanth2003/mlLab/blob/main/linearRegression.ipynb\" target=\"_parent\"><img src=\"https://colab.research.google.com/assets/colab-badge.svg\" alt=\"Open In Colab\"/></a>"
      ]
    },
    {
      "cell_type": "code",
      "execution_count": 4,
      "metadata": {
        "id": "x76yFrkaETvu"
      },
      "outputs": [],
      "source": [
        "import numpy as np\n",
        "\n",
        "class MyLinearRegression:\n",
        "  def __init__(this,iteration=1000,learning_rate=0.1):\n",
        "    this.l_rate = learning_rate\n",
        "    this.iter = iteration\n",
        "    this.w = None\n",
        "    this.b = None\n",
        "\n",
        "  def fit(this,d_train,y_train):\n",
        "    samples,features = d_train.shape\n",
        "    this.w = np.ones(features)\n",
        "    this.b=0;\n",
        "\n",
        "    i=0\n",
        "    while (i)<=this.iter:\n",
        "      i+=1\n",
        "      predict = np.dot(d_train,this.w) + this.b\n",
        "\n",
        "      dw = (1/samples) * np.dot(d_train.T,(predict-y_train))\n",
        "      db = (1/samples) * np.sum(predict-y_train)\n",
        "\n",
        "      this.w = this.w - this.l_rate * dw\n",
        "      this.b = this.b - this.l_rate * db\n",
        "\n",
        "  def predict(this,d_test):\n",
        "    return np.dot(d_test,this.w) + this.b\n"
      ]
    }
  ],
  "metadata": {
    "colab": {
      "provenance": [],
      "authorship_tag": "ABX9TyOZSncaqzoFlRq3heUtfsyP",
      "include_colab_link": true
    },
    "kernelspec": {
      "display_name": "Python 3",
      "name": "python3"
    },
    "language_info": {
      "name": "python"
    }
  },
  "nbformat": 4,
  "nbformat_minor": 0
}