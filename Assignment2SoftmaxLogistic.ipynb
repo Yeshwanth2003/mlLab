{
  "nbformat": 4,
  "nbformat_minor": 0,
  "metadata": {
    "colab": {
      "provenance": [],
      "authorship_tag": "ABX9TyOZU1sBGkXYJDa8JwVeAVRT",
      "include_colab_link": true
    },
    "kernelspec": {
      "name": "python3",
      "display_name": "Python 3"
    },
    "language_info": {
      "name": "python"
    }
  },
  "cells": [
    {
      "cell_type": "markdown",
      "metadata": {
        "id": "view-in-github",
        "colab_type": "text"
      },
      "source": [
        "<a href=\"https://colab.research.google.com/github/Yeshwanth2003/mlLab/blob/main/Assignment2SoftmaxLogistic.ipynb\" target=\"_parent\"><img src=\"https://colab.research.google.com/assets/colab-badge.svg\" alt=\"Open In Colab\"/></a>"
      ]
    },
    {
      "cell_type": "code",
      "source": [
        "from sklearn.datasets import load_iris\n",
        "from sklearn.model_selection import train_test_split\n",
        "from sklearn.metrics import accuracy_score\n",
        "from sklearn.preprocessing import StandardScaler\n",
        "\n",
        "data = load_iris()\n",
        "target = data.target\n",
        "data = data.data\n",
        "\n",
        "sds = StandardScaler()\n",
        "data = sds.fit_transform(data)\n",
        "\n",
        "X_train, temp1, y_train, temp2 = train_test_split(data, target, test_size=0.3, random_state=42)\n",
        "X_test, X_val, y_test, y_val = train_test_split(temp1, temp2, test_size=0.5, random_state=42)\n"
      ],
      "metadata": {
        "id": "d3dHx1BuE1W4"
      },
      "execution_count": 17,
      "outputs": []
    },
    {
      "cell_type": "code",
      "execution_count": 18,
      "metadata": {
        "id": "R7CqvVISvFvJ"
      },
      "outputs": [],
      "source": [
        "import numpy as np\n",
        "\n",
        "class MySoftmaxLogisticRegression:\n",
        "  def __init__(this, iteration=1000, lr=0.1):\n",
        "    this.iteration = iteration\n",
        "    this.lr = lr\n",
        "    this.weight = None\n",
        "    this.b = None\n",
        "\n",
        "  def __softmax(this, z):\n",
        "    z_stable = z - np.max(z, axis=1, keepdims=True)\n",
        "    exp_scores = np.exp(z_stable)\n",
        "    return exp_scores / np.sum(exp_scores, axis=1, keepdims=True)\n",
        "\n",
        "  def fit(this, X_train, y_train):\n",
        "    samples, feature = X_train.shape\n",
        "    classes = np.max(y_train) + 1\n",
        "\n",
        "    this.weight = np.random.randn(feature, classes) * 0.01\n",
        "    this.b = np.zeros(classes)\n",
        "\n",
        "    y_encoded = np.zeros((samples, classes))\n",
        "    y_encoded[np.arange(samples), y_train] = 1\n",
        "\n",
        "    i=0\n",
        "    while i<=this.iteration:\n",
        "      i+=1\n",
        "\n",
        "      logits = np.dot(X_train, this.weight) + this.b\n",
        "\n",
        "      probs = this.__softmax(logits)\n",
        "\n",
        "      grad_w = (1 / samples) * np.dot(X_train.T, (probs - y_encoded))\n",
        "      grad_b = (1 / samples) * np.sum(probs - y_encoded, axis=0)\n",
        "\n",
        "      this.weight -= this.lr * grad_w\n",
        "      this.b -= this.lr * grad_b\n",
        "\n",
        "  def predict(this, X_test):\n",
        "    logits = np.dot(X_test, this.weight) + this.b\n",
        "    probs = this.__softmax(logits)\n",
        "    return np.argmax(probs, axis=1)\n"
      ]
    },
    {
      "cell_type": "code",
      "source": [
        "SRL = MySoftmaxLogisticRegression()\n",
        "SRL.fit(X_train, y_train)\n",
        "y_pred = SRL.predict(X_test)\n",
        "accuracy = accuracy_score(y_test, y_pred)\n",
        "print(\"Accuracy:\", accuracy)"
      ],
      "metadata": {
        "colab": {
          "base_uri": "https://localhost:8080/"
        },
        "id": "yqXzVsutG60z",
        "outputId": "4ebd71bf-b055-404a-865e-3f28e77b0e6a"
      },
      "execution_count": 19,
      "outputs": [
        {
          "output_type": "stream",
          "name": "stdout",
          "text": [
            "Accuracy: 1.0\n"
          ]
        }
      ]
    },
    {
      "cell_type": "code",
      "source": [
        "from sklearn.linear_model import LogisticRegression\n",
        "\n",
        "model = LogisticRegression( solver='lbfgs', max_iter=1000)\n",
        "model.fit(X_train, y_train)\n",
        "y_pred = model.predict(X_test)\n",
        "c_accuracy = accuracy_score(y_test, y_pred)\n",
        "print(\"Accuracy:\", c_accuracy)\n",
        "\n",
        "# yesh\n"
      ],
      "metadata": {
        "colab": {
          "base_uri": "https://localhost:8080/"
        },
        "id": "DOgHZq0pHlHM",
        "outputId": "caf81717-ccd6-4167-ffaa-5f3fd602ba43"
      },
      "execution_count": 20,
      "outputs": [
        {
          "output_type": "stream",
          "name": "stdout",
          "text": [
            "Accuracy: 1.0\n"
          ]
        }
      ]
    }
  ]
}