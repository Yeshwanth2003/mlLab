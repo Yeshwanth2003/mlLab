{
  "nbformat": 4,
  "nbformat_minor": 0,
  "metadata": {
    "colab": {
      "provenance": [],
      "authorship_tag": "ABX9TyPAzQ0c9MJvRpvaHvsgKNDV",
      "include_colab_link": true
    },
    "kernelspec": {
      "name": "python3",
      "display_name": "Python 3"
    },
    "language_info": {
      "name": "python"
    }
  },
  "cells": [
    {
      "cell_type": "markdown",
      "metadata": {
        "id": "view-in-github",
        "colab_type": "text"
      },
      "source": [
        "<a href=\"https://colab.research.google.com/github/Yeshwanth2003/mlLab/blob/main/Assignment4GaussianNB.ipynb\" target=\"_parent\"><img src=\"https://colab.research.google.com/assets/colab-badge.svg\" alt=\"Open In Colab\"/></a>"
      ]
    },
    {
      "cell_type": "code",
      "source": [
        "!pip install openml"
      ],
      "metadata": {
        "colab": {
          "base_uri": "https://localhost:8080/"
        },
        "id": "mIBdjryDIxJZ",
        "outputId": "9668c808-857a-4300-ff25-37860ebda110"
      },
      "execution_count": 2,
      "outputs": [
        {
          "output_type": "stream",
          "name": "stdout",
          "text": [
            "Collecting openml\n",
            "  Downloading openml-0.15.1-py3-none-any.whl.metadata (10 kB)\n",
            "Collecting liac-arff>=2.4.0 (from openml)\n",
            "  Downloading liac-arff-2.5.0.tar.gz (13 kB)\n",
            "  Preparing metadata (setup.py) ... \u001b[?25l\u001b[?25hdone\n",
            "Collecting xmltodict (from openml)\n",
            "  Downloading xmltodict-0.14.2-py2.py3-none-any.whl.metadata (8.0 kB)\n",
            "Requirement already satisfied: requests in /usr/local/lib/python3.11/dist-packages (from openml) (2.32.3)\n",
            "Requirement already satisfied: scikit-learn>=0.18 in /usr/local/lib/python3.11/dist-packages (from openml) (1.6.1)\n",
            "Requirement already satisfied: python-dateutil in /usr/local/lib/python3.11/dist-packages (from openml) (2.9.0.post0)\n",
            "Requirement already satisfied: pandas>=1.0.0 in /usr/local/lib/python3.11/dist-packages (from openml) (2.2.2)\n",
            "Requirement already satisfied: scipy>=0.13.3 in /usr/local/lib/python3.11/dist-packages (from openml) (1.16.1)\n",
            "Requirement already satisfied: numpy>=1.6.2 in /usr/local/lib/python3.11/dist-packages (from openml) (2.0.2)\n",
            "Collecting minio (from openml)\n",
            "  Downloading minio-7.2.16-py3-none-any.whl.metadata (6.5 kB)\n",
            "Requirement already satisfied: pyarrow in /usr/local/lib/python3.11/dist-packages (from openml) (18.1.0)\n",
            "Requirement already satisfied: tqdm in /usr/local/lib/python3.11/dist-packages (from openml) (4.67.1)\n",
            "Requirement already satisfied: packaging in /usr/local/lib/python3.11/dist-packages (from openml) (25.0)\n",
            "Requirement already satisfied: pytz>=2020.1 in /usr/local/lib/python3.11/dist-packages (from pandas>=1.0.0->openml) (2025.2)\n",
            "Requirement already satisfied: tzdata>=2022.7 in /usr/local/lib/python3.11/dist-packages (from pandas>=1.0.0->openml) (2025.2)\n",
            "Requirement already satisfied: six>=1.5 in /usr/local/lib/python3.11/dist-packages (from python-dateutil->openml) (1.17.0)\n",
            "Requirement already satisfied: joblib>=1.2.0 in /usr/local/lib/python3.11/dist-packages (from scikit-learn>=0.18->openml) (1.5.1)\n",
            "Requirement already satisfied: threadpoolctl>=3.1.0 in /usr/local/lib/python3.11/dist-packages (from scikit-learn>=0.18->openml) (3.6.0)\n",
            "Requirement already satisfied: argon2-cffi in /usr/local/lib/python3.11/dist-packages (from minio->openml) (25.1.0)\n",
            "Requirement already satisfied: certifi in /usr/local/lib/python3.11/dist-packages (from minio->openml) (2025.8.3)\n",
            "Collecting pycryptodome (from minio->openml)\n",
            "  Downloading pycryptodome-3.23.0-cp37-abi3-manylinux_2_17_x86_64.manylinux2014_x86_64.whl.metadata (3.4 kB)\n",
            "Requirement already satisfied: typing-extensions in /usr/local/lib/python3.11/dist-packages (from minio->openml) (4.14.1)\n",
            "Requirement already satisfied: urllib3 in /usr/local/lib/python3.11/dist-packages (from minio->openml) (2.5.0)\n",
            "Requirement already satisfied: charset-normalizer<4,>=2 in /usr/local/lib/python3.11/dist-packages (from requests->openml) (3.4.3)\n",
            "Requirement already satisfied: idna<4,>=2.5 in /usr/local/lib/python3.11/dist-packages (from requests->openml) (3.10)\n",
            "Requirement already satisfied: argon2-cffi-bindings in /usr/local/lib/python3.11/dist-packages (from argon2-cffi->minio->openml) (25.1.0)\n",
            "Requirement already satisfied: cffi>=1.0.1 in /usr/local/lib/python3.11/dist-packages (from argon2-cffi-bindings->argon2-cffi->minio->openml) (1.17.1)\n",
            "Requirement already satisfied: pycparser in /usr/local/lib/python3.11/dist-packages (from cffi>=1.0.1->argon2-cffi-bindings->argon2-cffi->minio->openml) (2.22)\n",
            "Downloading openml-0.15.1-py3-none-any.whl (160 kB)\n",
            "\u001b[2K   \u001b[90m━━━━━━━━━━━━━━━━━━━━━━━━━━━━━━━━━━━━━━━━\u001b[0m \u001b[32m160.4/160.4 kB\u001b[0m \u001b[31m4.9 MB/s\u001b[0m eta \u001b[36m0:00:00\u001b[0m\n",
            "\u001b[?25hDownloading minio-7.2.16-py3-none-any.whl (95 kB)\n",
            "\u001b[2K   \u001b[90m━━━━━━━━━━━━━━━━━━━━━━━━━━━━━━━━━━━━━━━━\u001b[0m \u001b[32m95.8/95.8 kB\u001b[0m \u001b[31m6.3 MB/s\u001b[0m eta \u001b[36m0:00:00\u001b[0m\n",
            "\u001b[?25hDownloading xmltodict-0.14.2-py2.py3-none-any.whl (10.0 kB)\n",
            "Downloading pycryptodome-3.23.0-cp37-abi3-manylinux_2_17_x86_64.manylinux2014_x86_64.whl (2.3 MB)\n",
            "\u001b[2K   \u001b[90m━━━━━━━━━━━━━━━━━━━━━━━━━━━━━━━━━━━━━━━━\u001b[0m \u001b[32m2.3/2.3 MB\u001b[0m \u001b[31m41.8 MB/s\u001b[0m eta \u001b[36m0:00:00\u001b[0m\n",
            "\u001b[?25hBuilding wheels for collected packages: liac-arff\n",
            "  Building wheel for liac-arff (setup.py) ... \u001b[?25l\u001b[?25hdone\n",
            "  Created wheel for liac-arff: filename=liac_arff-2.5.0-py3-none-any.whl size=11717 sha256=5a5a71f95a373b4e75ebc85b8b1f00c0fd8ebd9d831dfa13267d19d5ca71b541\n",
            "  Stored in directory: /root/.cache/pip/wheels/00/23/31/5e562fce1f95aabe57f2a7320d07433ba1cd152bcde2f6a002\n",
            "Successfully built liac-arff\n",
            "Installing collected packages: xmltodict, pycryptodome, liac-arff, minio, openml\n",
            "Successfully installed liac-arff-2.5.0 minio-7.2.16 openml-0.15.1 pycryptodome-3.23.0 xmltodict-0.14.2\n"
          ]
        }
      ]
    },
    {
      "cell_type": "code",
      "metadata": {
        "id": "b755276e",
        "colab": {
          "base_uri": "https://localhost:8080/"
        },
        "outputId": "25965f95-8931-4051-901f-c2393810be33"
      },
      "source": [
        "import openml as op\n",
        "import pandas as pd\n",
        "\n",
        "data = op.datasets.get_dataset(40499)\n",
        "df = pd.DataFrame(data.get_data()[0])\n",
        "\n",
        "print(df['Class'].value_counts())\n",
        "print(\"The class diveresity seems well balanced\")"
      ],
      "execution_count": 3,
      "outputs": [
        {
          "output_type": "stream",
          "name": "stdout",
          "text": [
            "Class\n",
            "1     500\n",
            "2     500\n",
            "3     500\n",
            "4     500\n",
            "5     500\n",
            "6     500\n",
            "7     500\n",
            "8     500\n",
            "9     500\n",
            "10    500\n",
            "11    500\n",
            "Name: count, dtype: int64\n",
            "The class diveresity seems well balanced\n"
          ]
        }
      ]
    },
    {
      "cell_type": "code",
      "source": [
        "from sklearn.preprocessing import StandardScaler\n",
        "\n",
        "sds = StandardScaler()\n",
        "data = sds.fit_transform(df.drop('Class',axis=1))"
      ],
      "metadata": {
        "id": "4AhrDWD5TzDd"
      },
      "execution_count": 4,
      "outputs": []
    },
    {
      "cell_type": "code",
      "source": [
        "from sklearn.model_selection import train_test_split\n",
        "\n",
        "X_train, X_test, y_train, y_test = train_test_split(data, df['Class'], test_size=0.2, random_state=42)"
      ],
      "metadata": {
        "id": "bWEhc3WwVJha"
      },
      "execution_count": 5,
      "outputs": []
    },
    {
      "cell_type": "code",
      "source": [
        "import numpy as np\n",
        "\n",
        "class GaussianClassifier:\n",
        "  def __init__(self):\n",
        "    print(\"Gaussian Classifier\")\n",
        "\n",
        "  def fit(self,X,y):\n",
        "    samples_c,features_c = X.shape\n",
        "    self.classes_n_count = np.unique(y,return_counts=True)\n",
        "\n",
        "    self.pre_mean = np.zeros((self.classes_n_count[0].shape[0],features_c))\n",
        "    self.pre_var = np.zeros((self.classes_n_count[0].shape[0],features_c))\n",
        "    self.pre_prob = np.zeros(self.classes_n_count[0].shape[0])\n",
        "    tot = y.shape[0]\n",
        "\n",
        "    for ind,cls in enumerate(self.classes_n_count[0]):\n",
        "      X_cls = X[y==cls]\n",
        "      self.pre_mean[ind,:] = X_cls.mean(axis=0)\n",
        "      self.pre_var[ind,:] = X_cls.var(axis=0)\n",
        "      self.pre_prob[ind] = self.classes_n_count[1][ind]/tot\n",
        "\n",
        "  def predict(self,test):\n",
        "    predictions = [self.__predict(x) for x in test]\n",
        "    return predictions\n",
        "\n",
        "  def __predict(self,x):\n",
        "    vals = []\n",
        "\n",
        "    for ind,cls in enumerate(self.classes_n_count[0]):\n",
        "      var = self.pre_var[ind]\n",
        "      mean = self.pre_mean[ind]\n",
        "      n = np.exp((-(mean-x)**2)/(2*var))\n",
        "      d = np.sqrt(2*3.14*var)\n",
        "      n_by_d = np.sum(np.log(n/d))\n",
        "      vals.append(n_by_d+np.log(self.pre_prob[ind]))\n",
        "    # print(len(vals))\n",
        "    return self.classes_n_count[0][np.argmax(vals)]"
      ],
      "metadata": {
        "id": "Teg3uhQE4iwr"
      },
      "execution_count": 6,
      "outputs": []
    },
    {
      "cell_type": "code",
      "source": [
        "from sklearn.metrics import accuracy_score\n",
        "\n",
        "model = GaussianClassifier()\n",
        "model.fit(X_train,y_train)\n",
        "\n",
        "predict = model.predict(X_test)\n",
        "accuracy = accuracy_score(y_test,predict)\n",
        "print(accuracy)"
      ],
      "metadata": {
        "colab": {
          "base_uri": "https://localhost:8080/"
        },
        "id": "lK-zKBT7YBe9",
        "outputId": "15c375d0-3ea8-4473-d439-2b201f5e3f99"
      },
      "execution_count": 7,
      "outputs": [
        {
          "output_type": "stream",
          "name": "stdout",
          "text": [
            "Gaussian Classifier\n",
            "0.7818181818181819\n"
          ]
        }
      ]
    },
    {
      "cell_type": "code",
      "source": [
        "from sklearn.metrics import confusion_matrix,precision_score,recall_score\n",
        "\n",
        "print(confusion_matrix(y_test,predict))\n",
        "print(precision_score(y_test,predict,average='macro'))\n",
        "print(recall_score(y_test,predict,average='macro'))"
      ],
      "metadata": {
        "colab": {
          "base_uri": "https://localhost:8080/"
        },
        "id": "-bnqVoJnK_8H",
        "outputId": "385ac3be-b0aa-42ce-da63-39f14e709061"
      },
      "execution_count": 11,
      "outputs": [
        {
          "output_type": "stream",
          "name": "stdout",
          "text": [
            "[[ 57   6   1   0   0   6   0   0   0  38   0]\n",
            " [ 15  42   1   0   0  25   0   0   0   6   0]\n",
            " [  2  11  54   0   0   3  20   8   2   0   0]\n",
            " [  0   0   0  90   0   0   3   0   0   0   0]\n",
            " [  1   0   0   0 105   0   0   0   0   0   0]\n",
            " [  2   7   1   0   1  79   0  10   0   2   0]\n",
            " [  0   1  19   0   0   5  83   2  10   0   0]\n",
            " [  0   0   1   0   0  13   8  72   0   0   0]\n",
            " [  0   0   1   0   0   0   6   0 101   0   0]\n",
            " [  0   0   2   0   0   0   0   0   0  87   0]\n",
            " [  0   0   1   0   0   0   0   0   0   0  90]]\n",
            "0.78632977834707\n",
            "0.7847140040761462\n"
          ]
        }
      ]
    },
    {
      "cell_type": "code",
      "source": [
        "from sklearn.naive_bayes import GaussianNB\n",
        "\n",
        "model = GaussianNB()\n",
        "model.fit(X_train,y_train)\n",
        "\n",
        "predict = model.predict(X_test)\n",
        "accuracy = accuracy_score(y_test,predict)\n",
        "print(accuracy)"
      ],
      "metadata": {
        "colab": {
          "base_uri": "https://localhost:8080/"
        },
        "id": "v5HpRSPGZl2h",
        "outputId": "01febd7f-82d3-4d03-96bd-bf8768798002"
      },
      "execution_count": 12,
      "outputs": [
        {
          "output_type": "stream",
          "name": "stdout",
          "text": [
            "0.7818181818181819\n"
          ]
        }
      ]
    },
    {
      "cell_type": "code",
      "source": [
        "print(confusion_matrix(y_test,predict))\n",
        "print(precision_score(y_test,predict,average='macro'))\n",
        "print(recall_score(y_test,predict,average='macro'))"
      ],
      "metadata": {
        "colab": {
          "base_uri": "https://localhost:8080/"
        },
        "id": "m7IaSLiWOx4v",
        "outputId": "6ecaa7d1-2e88-4cba-b7b0-c0bc6b08e3a2"
      },
      "execution_count": 13,
      "outputs": [
        {
          "output_type": "stream",
          "name": "stdout",
          "text": [
            "[[ 57   6   1   0   0   6   0   0   0  38   0]\n",
            " [ 15  42   1   0   0  25   0   0   0   6   0]\n",
            " [  2  11  54   0   0   3  20   8   2   0   0]\n",
            " [  0   0   0  90   0   0   3   0   0   0   0]\n",
            " [  1   0   0   0 105   0   0   0   0   0   0]\n",
            " [  2   7   1   0   1  79   0  10   0   2   0]\n",
            " [  0   1  19   0   0   5  83   2  10   0   0]\n",
            " [  0   0   1   0   0  13   8  72   0   0   0]\n",
            " [  0   0   1   0   0   0   6   0 101   0   0]\n",
            " [  0   0   2   0   0   0   0   0   0  87   0]\n",
            " [  0   0   1   0   0   0   0   0   0   0  90]]\n",
            "0.78632977834707\n",
            "0.7847140040761462\n"
          ]
        }
      ]
    }
  ]
}