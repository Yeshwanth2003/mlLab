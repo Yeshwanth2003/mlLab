{
  "nbformat": 4,
  "nbformat_minor": 0,
  "metadata": {
    "colab": {
      "provenance": [],
      "authorship_tag": "ABX9TyOkWopmG8d4OpPWZRGT/X6z",
      "include_colab_link": true
    },
    "kernelspec": {
      "name": "python3",
      "display_name": "Python 3"
    },
    "language_info": {
      "name": "python"
    }
  },
  "cells": [
    {
      "cell_type": "markdown",
      "metadata": {
        "id": "view-in-github",
        "colab_type": "text"
      },
      "source": [
        "<a href=\"https://colab.research.google.com/github/Yeshwanth2003/mlLab/blob/main/labExp1KNNR15_py.ipynb\" target=\"_parent\"><img src=\"https://colab.research.google.com/assets/colab-badge.svg\" alt=\"Open In Colab\"/></a>"
      ]
    },
    {
      "cell_type": "code",
      "execution_count": 62,
      "metadata": {
        "id": "tUT7kPOqEEP9"
      },
      "outputs": [],
      "source": [
        "import pprint\n",
        "import numpy as np\n",
        "from collections import Counter\n",
        "\n",
        "class KNN:\n",
        "    def __init__(this, k=3, train_x=None, train_y=None):\n",
        "        this.k = k\n",
        "        if train_x is None or train_y is None:\n",
        "            print(\"Please provide training data\")\n",
        "            return\n",
        "        this.train_x = np.array(train_x)\n",
        "        this.train_y = np.array(train_y)\n",
        "        this.dist_set = {\n",
        "            \"euclidean\": this.__euclidean,\n",
        "            \"manhattan\": this.__manhattan,\n",
        "            \"minkowski\": this.__minkowski\n",
        "        }\n",
        "        print(\"Model is ready!\")\n",
        "\n",
        "    def predict(this, test_x, distance=\"euclidean\", weighted=False):\n",
        "        if distance not in this.dist_set:\n",
        "            print(\"Invalid distance value\")\n",
        "            return\n",
        "        dist_fun = this.dist_set[distance]\n",
        "        predictions = [this.__predictor(x, dist_fun, weighted) for x in test_x]\n",
        "        return np.array(predictions)\n",
        "\n",
        "    def __predictor(this, x, distfun, weighted):\n",
        "        distances = np.array([distfun(x, y) for y in this.train_x])\n",
        "\n",
        "        k_indices = np.argsort(distances)[:this.k]\n",
        "        k_targets = this.train_y[k_indices]\n",
        "        k_distances = distances[k_indices]\n",
        "\n",
        "        if weighted:\n",
        "            weights = 1 / (k_distances + 1e-8)\n",
        "            return np.sum(weights * k_targets) / np.sum(weights)\n",
        "        else:\n",
        "            return np.mean(k_targets)\n",
        "\n",
        "    def __euclidean(this, x, y):\n",
        "        return np.sqrt(np.sum((x - y) ** 2))\n",
        "\n",
        "    def __manhattan(this, x, y):\n",
        "        return np.sum(np.abs(x - y))\n",
        "\n",
        "    def __minkowski(this, x, y, p=3):\n",
        "        return np.power(np.sum(np.power(np.abs(x - y), p)), 1/p)\n"
      ]
    },
    {
      "cell_type": "code",
      "source": [
        "from sklearn.datasets import fetch_openml\n",
        "from sklearn.model_selection import train_test_split\n",
        "from sklearn.metrics import mean_squared_error\n",
        "\n",
        "data = fetch_openml(data_id=531)\n",
        "target = np.array(data.target,dtype=float)\n",
        "data = np.array(data.data,dtype=float)\n",
        "\n",
        "\n",
        "data,sample,target,expected = train_test_split(data,target,test_size=0.3,random_state=20)\n",
        "model = KNN(train_x=data,train_y=target)\n",
        "predicted = model.predict(test_x=sample)\n",
        "i_acc_score = mean_squared_error(expected,predicted)\n",
        "print(\"Accuracy score: \",i_acc_score)"
      ],
      "metadata": {
        "colab": {
          "base_uri": "https://localhost:8080/"
        },
        "id": "-2fgVHB3E758",
        "outputId": "a8159d85-f628-4b6a-82a9-76e838c1b12a"
      },
      "execution_count": 63,
      "outputs": [
        {
          "output_type": "stream",
          "name": "stdout",
          "text": [
            "Model is ready!\n",
            "Accuracy score:  40.8544298245614\n"
          ]
        }
      ]
    },
    {
      "cell_type": "code",
      "source": [
        "from sklearn.neighbors import KNeighborsRegressor\n",
        "\n",
        "cKnn = KNeighborsRegressor(n_neighbors=3,algorithm=\"brute\")\n",
        "cKnn.fit(data,target)\n",
        "predicted = cKnn.predict(sample)\n",
        "u_acc_score = mean_squared_error(expected,predicted)\n",
        "print(\"Accuracy score: \",u_acc_score)"
      ],
      "metadata": {
        "colab": {
          "base_uri": "https://localhost:8080/"
        },
        "id": "jMB68zl1WhJp",
        "outputId": "f282c2c2-12a0-4953-a744-c6786c01efa9"
      },
      "execution_count": 64,
      "outputs": [
        {
          "output_type": "stream",
          "name": "stdout",
          "text": [
            "Accuracy score:  40.8544298245614\n"
          ]
        }
      ]
    },
    {
      "cell_type": "code",
      "source": [
        "print(\"Comparing the Accuracy socre of implemented vs used algorithm\\n\",i_acc_score,u_acc_score)"
      ],
      "metadata": {
        "colab": {
          "base_uri": "https://localhost:8080/"
        },
        "id": "haBE_wLXXyz2",
        "outputId": "163f53c4-0ad3-437f-8d7a-27fdef00c77d"
      },
      "execution_count": 65,
      "outputs": [
        {
          "output_type": "stream",
          "name": "stdout",
          "text": [
            "Comparing the Accuracy socre of implemented vs used algorithm\n",
            " 40.8544298245614 40.8544298245614\n"
          ]
        }
      ]
    }
  ]
}